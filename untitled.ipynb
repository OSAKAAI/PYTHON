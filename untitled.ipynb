{
  "nbformat": 4,
  "nbformat_minor": 0,
  "metadata": {
    "colab": {
      "provenance": [],
      "authorship_tag": "ABX9TyO84tp3Q6EK+yU3UAGdWH5m",
      "include_colab_link": true
    },
    "kernelspec": {
      "name": "python3",
      "display_name": "Python 3"
    },
    "language_info": {
      "name": "python"
    }
  },
  "cells": [
    {
      "cell_type": "markdown",
      "metadata": {
        "id": "view-in-github",
        "colab_type": "text"
      },
      "source": [
        "<a href=\"https://colab.research.google.com/github/OSAKAAI/PYTHON/blob/main/untitled.ipynb\" target=\"_parent\"><img src=\"https://colab.research.google.com/assets/colab-badge.svg\" alt=\"Open In Colab\"/></a>"
      ]
    },
    {
      "cell_type": "markdown",
      "source": [
        "### **WRITE A PROGRAM TO PERFORM DIFFERENT STRING OPERATIONS.**\n",
        "\n",
        "---\n",
        "\n"
      ],
      "metadata": {
        "id": "aweL5XGS4P8F"
      }
    },
    {
      "cell_type": "code",
      "source": [
        "sample=\"You are invinsible \"\n",
        "sample2=\"and unbeatable\"\n",
        "print(sample)\n",
        "print(sample.find('a'))                              #find is used to find a perticular letter or word in a string\n",
        "\n",
        "print(sample.replace('You','We'))                    #replace is used to replace a perticular letter or word to a different one in a string\n",
        "\n",
        "print(sample[3:7])                                   # [] box brackets are used to substring a perticular string\n",
        "\n",
        "sample3=sample+sample2                               # '+' operator is used for concatination of string\n",
        "sample4=sample3*3                                    # '*' is used for repetition\n",
        "print(sample3)\n",
        "print(sample4 )\n"
      ],
      "metadata": {
        "colab": {
          "base_uri": "https://localhost:8080/"
        },
        "id": "JgJE_gjx4lxv",
        "outputId": "45301fd8-2848-4bba-8789-1fd58b02a6eb"
      },
      "execution_count": null,
      "outputs": [
        {
          "output_type": "stream",
          "name": "stdout",
          "text": [
            "You are invinsible \n",
            "4\n",
            "We are invinsible \n",
            " are\n",
            "You are invinsible and unbeatable\n",
            "You are invinsible and unbeatableYou are invinsible and unbeatableYou are invinsible and unbeatable\n"
          ]
        }
      ]
    },
    {
      "cell_type": "markdown",
      "source": [
        "## **WRITE A PROGRAM TO INPUT AGE OF THE USER AND CHECK WETHER HE IS ALIGIBLE TO CAST A VOTE OR NOT.**\n",
        "\n",
        "---\n",
        "\n"
      ],
      "metadata": {
        "id": "Ns2mHkxZFpGk"
      }
    },
    {
      "cell_type": "code",
      "source": [
        "agedata =input(\"Enter your age\")\n",
        "age=int(agedata)\n",
        "print(\"your current age is :\",age)\n",
        "if age >=18:\n",
        "  print(\"you are eligible to cast a vote\")\n",
        "else:\n",
        "  print(\"you are not eligible to cast a vote\")\n"
      ],
      "metadata": {
        "colab": {
          "base_uri": "https://localhost:8080/"
        },
        "id": "XT5_ZL6xFh8s",
        "outputId": "ca0ccbf3-7e99-479d-dcf3-0cd1b60ae07c"
      },
      "execution_count": null,
      "outputs": [
        {
          "output_type": "stream",
          "name": "stdout",
          "text": [
            "Enter your age 23\n",
            "your current age is : 23\n",
            "you are eligible to cast a vote\n"
          ]
        }
      ]
    }
  ]
}