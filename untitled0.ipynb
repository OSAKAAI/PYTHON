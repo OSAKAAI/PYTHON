{
  "nbformat": 4,
  "nbformat_minor": 0,
  "metadata": {
    "colab": {
      "provenance": []
    },
    "kernelspec": {
      "name": "python3",
      "display_name": "Python 3"
    },
    "language_info": {
      "name": "python"
    }
  },
  "cells": [
    {
      "cell_type": "code",
      "execution_count": null,
      "metadata": {
        "colab": {
          "base_uri": "https://localhost:8080/"
        },
        "id": "xF9_YrJuTW7j",
        "outputId": "683331f0-f12f-40b0-e33d-8e2c7cedc1ad"
      },
      "outputs": [
        {
          "output_type": "stream",
          "name": "stdout",
          "text": [
            "hello\n"
          ]
        }
      ],
      "source": [
        "print('hello')\n"
      ]
    },
    {
      "cell_type": "markdown",
      "source": [
        "print hello\n"
      ],
      "metadata": {
        "id": "QT-RuGehToLt"
      }
    },
    {
      "cell_type": "code",
      "source": [
        "message = \"I WANT TO GO ON ADVENTURES : BY OSAKA\"\n",
        "print(message)\n"
      ],
      "metadata": {
        "colab": {
          "base_uri": "https://localhost:8080/"
        },
        "id": "NWkMWlXtTsHW",
        "outputId": "66a197b5-c1e4-4b9e-9438-05ab68ac22f1"
      },
      "execution_count": null,
      "outputs": [
        {
          "output_type": "stream",
          "name": "stdout",
          "text": [
            "I WANT TO GO ON ADVENTURES : BY OSAKA\n"
          ]
        }
      ]
    },
    {
      "cell_type": "code",
      "source": [
        "a=12\n",
        "b=13\n",
        "c=a+b\n",
        "print(c)\n"
      ],
      "metadata": {
        "colab": {
          "base_uri": "https://localhost:8080/"
        },
        "id": "ZYGpB7ugUuH6",
        "outputId": "bda484f2-e583-4031-c4c9-0bbb04c2bf41"
      },
      "execution_count": null,
      "outputs": [
        {
          "output_type": "stream",
          "name": "stdout",
          "text": [
            "25\n"
          ]
        }
      ]
    },
    {
      "cell_type": "code",
      "source": [
        "a=5j\n",
        "b=\"magadh\"\n",
        "c=1256\n",
        "d=67.89\n",
        "print(type(a))\n",
        "print(type(b))\n",
        "print(type(c))\n",
        "print(type(d))\n"
      ],
      "metadata": {
        "colab": {
          "base_uri": "https://localhost:8080/"
        },
        "id": "NjurouZyY7jv",
        "outputId": "0e425aa3-03ac-4270-f239-eef51cce6716"
      },
      "execution_count": null,
      "outputs": [
        {
          "output_type": "stream",
          "name": "stdout",
          "text": [
            "<class 'complex'>\n",
            "<class 'str'>\n",
            "<class 'int'>\n",
            "<class 'float'>\n"
          ]
        }
      ]
    },
    {
      "cell_type": "code",
      "source": [
        "birthday=input(\"enter the birth year\")\n",
        "age=2024-int(birthday)\n",
        "print(age)\n"
      ],
      "metadata": {
        "colab": {
          "base_uri": "https://localhost:8080/"
        },
        "id": "EKzVS3nobx-2",
        "outputId": "a8e5d8fc-531f-45e1-be92-5cfe15a14065"
      },
      "execution_count": null,
      "outputs": [
        {
          "output_type": "stream",
          "name": "stdout",
          "text": [
            "enter the birth year1999\n",
            "25\n"
          ]
        }
      ]
    },
    {
      "cell_type": "code",
      "source": [
        "a=10\n",
        "b=1.2\n",
        "c=a+b\n",
        "print(c)\n"
      ],
      "metadata": {
        "colab": {
          "base_uri": "https://localhost:8080/"
        },
        "id": "9CQmLvnTcI7d",
        "outputId": "ba121b5d-5953-4a53-a1b3-c00d2b8bd37c"
      },
      "execution_count": null,
      "outputs": [
        {
          "output_type": "stream",
          "name": "stdout",
          "text": [
            "11.2\n"
          ]
        }
      ]
    },
    {
      "cell_type": "code",
      "source": [],
      "metadata": {
        "id": "9iaMIaDxcIcc"
      },
      "execution_count": null,
      "outputs": []
    },
    {
      "cell_type": "markdown",
      "source": [
        "to create a biodata of yourself\n",
        "including age name id and university address"
      ],
      "metadata": {
        "id": "UjVG5rlofx-F"
      }
    },
    {
      "cell_type": "code",
      "source": [
        "name=input(\"enter your name\")\n",
        "age=input(\"Enter your age\")\n",
        "uniaddress=input(\"Enter university address\")\n",
        "id=input(\"enter id\")\n",
        "print(\"name :\", name)\n",
        "print(\"age :\", age)\n",
        "print(\"university address :\", uniaddress)\n",
        "print(\"id :\", id)\n"
      ],
      "metadata": {
        "colab": {
          "base_uri": "https://localhost:8080/"
        },
        "id": "vMCwcm1OcbI-",
        "outputId": "47a08b36-31f7-4dcc-d29c-2a1f93debc9a"
      },
      "execution_count": null,
      "outputs": [
        {
          "output_type": "stream",
          "name": "stdout",
          "text": [
            "enter your name Vaibhav Panwar\n",
            "Enter your age 17 \n",
            "Enter university address Bidholi near police station ,Dehradun\n",
            "enter id 500127057\n",
            "name :  Vaibhav Panwar\n",
            "age :  17 \n",
            "uniaddress :  Bidholi near police station ,Dehradun\n",
            "id :  500127057\n"
          ]
        }
      ]
    },
    {
      "cell_type": "markdown",
      "source": [
        "WRITE A PROGRAM TO CARRY VARIOUS OPERATIONS ON STRING."
      ],
      "metadata": {
        "id": "9HD0rUKSlxV9"
      }
    },
    {
      "cell_type": "code",
      "source": [],
      "metadata": {
        "id": "9pYWvElQl5CC"
      },
      "execution_count": null,
      "outputs": []
    }
  ]
}